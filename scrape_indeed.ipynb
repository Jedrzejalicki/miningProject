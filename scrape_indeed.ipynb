{
 "cells": [
  {
   "cell_type": "code",
   "execution_count": 1,
   "metadata": {},
   "outputs": [
    {
     "name": "stdout",
     "output_type": "stream",
     "text": [
      "Hello World 2\n"
     ]
    }
   ],
   "source": [
    "print(\"Hello World 2\")"
   ]
  },
  {
   "cell_type": "code",
   "execution_count": null,
   "metadata": {},
   "outputs": [],
   "source": [
    "print(\"This points marks the start of the beest project Nina has ever seen. Enjoy...\")"
   ]
  },
  {
   "cell_type": "code",
   "execution_count": 2,
   "metadata": {},
   "outputs": [],
   "source": [
    "from selenium import webdriver\n",
    "from bs4 import BeautifulSoup\n",
    "import csv"
   ]
  },
  {
   "cell_type": "code",
   "execution_count": 14,
   "metadata": {},
   "outputs": [
    {
     "name": "stdout",
     "output_type": "stream",
     "text": [
      "Deloitte\n",
      "300\n",
      "320\n",
      "340\n",
      "360\n",
      "380\n",
      "400\n",
      "420\n",
      "440\n",
      "460\n",
      "480\n",
      "Ey\n",
      "300\n",
      "320\n",
      "340\n",
      "360\n",
      "380\n",
      "400\n",
      "420\n",
      "440\n",
      "460\n",
      "480\n",
      "Pwc\n",
      "300\n",
      "320\n",
      "340\n",
      "360\n",
      "380\n",
      "400\n",
      "420\n",
      "440\n",
      "460\n",
      "480\n",
      "Accenture\n",
      "300\n",
      "320\n",
      "340\n",
      "360\n",
      "380\n",
      "400\n",
      "420\n",
      "440\n",
      "460\n",
      "480\n",
      "Kpmg-0828bc85\n",
      "300\n",
      "320\n",
      "340\n",
      "360\n",
      "380\n",
      "400\n",
      "420\n",
      "440\n",
      "460\n",
      "480\n"
     ]
    }
   ],
   "source": [
    "# Open a web browser and navigate to the website\n",
    "Companies = [\"Deloitte\",\"Ey\",\"Pwc\",\"Accenture\",\"Kpmg-0828bc85\"]\n",
    "for company in Companies:\n",
    "  print(company)\n",
    "  for i  in range(300, 500 ,20):\n",
    "    print(i)\n",
    "    URL = \"https://www.indeed.com/cmp/\"+company+\"/reviews?start=\"+str(i)\n",
    "    driver = webdriver.Firefox()\n",
    "    r = driver.get(URL)\n",
    "    review_divs = driver.find_element(\"css selector\", 'div.cmp-ReviewsList').get_attribute('outerHTML')\n",
    "\n",
    "    # Wait for the page to load\n",
    "    driver.implicitly_wait(10)\n",
    "\n",
    "    soupReviewList = BeautifulSoup(review_divs)\n",
    "\n",
    "    with open(company+'.csv','a+', encoding='utf-8') as f:\n",
    "      writer = csv.writer(f,delimiter='|')\n",
    "      for reviewDesc in soupReviewList.find_all('div','css-rr5fiy eu4oa1w0'):   \n",
    "        writer.writerow([reviewDesc.text])\n",
    "\n",
    "\n",
    "    driver.quit()\n",
    "\n",
    "\n",
    " "
   ]
  }
 ],
 "metadata": {
  "kernelspec": {
   "display_name": "Python 3",
   "language": "python",
   "name": "python3"
  },
  "language_info": {
   "codemirror_mode": {
    "name": "ipython",
    "version": 3
   },
   "file_extension": ".py",
   "mimetype": "text/x-python",
   "name": "python",
   "nbconvert_exporter": "python",
   "pygments_lexer": "ipython3",
   "version": "3.11.1"
  },
  "orig_nbformat": 4,
  "vscode": {
   "interpreter": {
    "hash": "322d49f846635015b2b8671af0f872676fddcb97511caae67355ae1b1c671582"
   }
  }
 },
 "nbformat": 4,
 "nbformat_minor": 2
}
